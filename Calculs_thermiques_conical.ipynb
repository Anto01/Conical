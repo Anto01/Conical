{
 "cells": [
  {
   "cell_type": "markdown",
   "metadata": {
    "run_control": {
     "marked": false
    }
   },
   "source": [
    "# Calculs thermiques du fermenteur cylindro-conique\n",
    "\n",
    "## Methode\n",
    "\n",
    "La simulation présente as pour but de calculer les performances du système de refroidissement peltier. La simulation est effectué dans le régime transitoire afin d'optimiser les temps de réponses dans le futur. Voici l'équation primaire de la simulation.\n",
    "\n",
    "$\\frac{q_{conv}-q_{plt}}{C_{p_th}}*dt = dT(t)$\n",
    "\n",
    "où :    \n",
    "\n",
    "$t$ = temps (s)\n",
    "\n",
    "$T$ = Température (°C)\n",
    "\n",
    "$q_{conv}$ = Puissance de convection du fermenteur (W)\n",
    "\n",
    "$q_{plt}$  = Puissance net de conduction du peltier (W)\n",
    "\n",
    "$C_{p_th}$ = Capacité thermique de la bière (J/°C)\n"
   ]
  },
  {
   "cell_type": "markdown",
   "metadata": {},
   "source": [
    "## Modules"
   ]
  },
  {
   "cell_type": "code",
   "execution_count": 103,
   "metadata": {
    "collapsed": false
   },
   "outputs": [],
   "source": [
    "import numpy as np\n",
    "import scipy as sp\n",
    "import scipy.constants as const\n",
    "%matplotlib inline\n",
    "import matplotlib.pyplot as plt\n",
    "import pandas as pd\n",
    "import pylab\n",
    "import sys\n",
    "import plotly\n",
    "from plotly.offline import plot"
   ]
  },
  {
   "cell_type": "markdown",
   "metadata": {},
   "source": [
    "## Paramètres\n",
    "\n",
    "### Environnement"
   ]
  },
  {
   "cell_type": "code",
   "execution_count": 104,
   "metadata": {
    "collapsed": true
   },
   "outputs": [],
   "source": [
    "# Température de la pièce\n",
    "T_ambiant = 20 # °C"
   ]
  },
  {
   "cell_type": "markdown",
   "metadata": {},
   "source": [
    "### Cylindro-conique"
   ]
  },
  {
   "cell_type": "markdown",
   "metadata": {},
   "source": [
    "#### Donées indépendantes"
   ]
  },
  {
   "cell_type": "code",
   "execution_count": 105,
   "metadata": {
    "collapsed": true
   },
   "outputs": [],
   "source": [
    "V_conical_g = 7 #gallons\n",
    "\n",
    "diametre = 11.8 #po\n",
    "hauteur_cyl = 10 #po\n",
    "hauteur_total = 24 #po\n",
    "\n",
    "epaisseur_ss = 0.0478 #po. (18 gauge)\n",
    "epaisseur_neo = 0.006 #m"
   ]
  },
  {
   "cell_type": "markdown",
   "metadata": {},
   "source": [
    "#### Données dépendantes"
   ]
  },
  {
   "cell_type": "code",
   "execution_count": 106,
   "metadata": {
    "collapsed": false
   },
   "outputs": [
    {
     "name": "stdout",
     "output_type": "stream",
     "text": [
      "Aire du conical =  0.270150262955 m²\n",
      "La différence entre les dimensions et le volume net =  -0.0566355136276373\n"
     ]
    }
   ],
   "source": [
    "# Gallon to m³\n",
    "V_conical_l = 3.78541 * V_conical_g # Litres\n",
    "V_conical = V_conical_l * 0.001 #m³\n",
    "\n",
    "# Inches to m\n",
    "dia_cyl = (diametre*2.54)/100 #m\n",
    "h_cyl = (hauteur_cyl * 2.54)/100 #m\n",
    "h_tot = (hauteur_total*2.54)/100 #m\n",
    "\n",
    "# Cone\n",
    "h_cone = h_tot-h_cyl #m\n",
    "l_cone = np.sqrt((dia_cyl/2)**2+h_cone**2) #m\n",
    "air_cone = np.pi * (dia_cyl/2) * l_cone #m²\n",
    "\n",
    "# Cylindre\n",
    "air_cyl = np.pi * (dia_cyl/2)**2 * h_cyl #m²\n",
    "\n",
    "# Couvercle\n",
    "air_lid = np.pi * (dia_cyl/2)**2\n",
    "\n",
    "# Total\n",
    "air_tot = air_cyl + air_cone + air_lid #m²\n",
    "print('Aire du conical = ',air_tot,'m²')\n",
    "\n",
    "\n",
    "# Vérification des dimensions vs volume\n",
    "V_cone = (1/3 * np.pi * (dia_cyl/2)**2) * h_cone #m³\n",
    "V_cyl = np.pi * (dia_cyl/2)**2 * h_cyl #m³\n",
    "V_verif = (V_cone + V_cyl) #m³\n",
    "V_conical_verif = (V_verif)*264.17 #gallons\n",
    "Diff_vol_verif = V_conical_verif - V_conical_g\n",
    "\n",
    "\n",
    "print('La différence entre les dimensions et le volume net = ',Diff_vol_verif)"
   ]
  },
  {
   "cell_type": "markdown",
   "metadata": {},
   "source": [
    "### Bière\n",
    "#### Données indépendantes"
   ]
  },
  {
   "cell_type": "code",
   "execution_count": 118,
   "metadata": {
    "collapsed": false,
    "run_control": {
     "marked": false
    }
   },
   "outputs": [],
   "source": [
    "T_biere_goal = 12 # °C (Température désiré de fermentation)\n",
    "T_wort = 35 # °C (Température de la bière avant la mise en marche du système)\n",
    "V_biere_l = 19 #Litres\n",
    "OG = 1.050 #g/cm³\n",
    "cp_th =4.186 # kJ/(kg*°C) \n",
    "\n"
   ]
  },
  {
   "cell_type": "markdown",
   "metadata": {},
   "source": [
    "#### Données dépendantes"
   ]
  },
  {
   "cell_type": "code",
   "execution_count": 119,
   "metadata": {
    "collapsed": false
   },
   "outputs": [],
   "source": [
    "V_biere = V_biere_l * 0.001 # m³\n",
    "rho_b = OG * 1000 #Kg/m³\n",
    "m_b = rho_b * V_m3 #kg\n",
    "Cp_th = (cp_th * m_b)*1000 #J/°C"
   ]
  },
  {
   "cell_type": "markdown",
   "metadata": {},
   "source": [
    "### Système de redroidissement"
   ]
  },
  {
   "cell_type": "markdown",
   "metadata": {},
   "source": [
    "#### Données indépendantes"
   ]
  },
  {
   "cell_type": "code",
   "execution_count": 120,
   "metadata": {
    "collapsed": true
   },
   "outputs": [],
   "source": [
    "# Cellules Peltiers\n",
    "nb_plt = 2 # Nombre de cellules\n",
    "q_plt_ch = 45.5 # W\n",
    "air_plt_ch = 0.04 * 0.04 # m²\n",
    "\n",
    "# Heat sink\n",
    "epaisseur_hs = 0.01 #m (à déterminer)\n",
    "air_hs = 0.08*0.08 #m² (à déterminer)\n",
    "\n",
    "# Plaque de contact\n",
    "air_plq = 0.0065 # m²\n",
    "epaisseur_plq = 0.0075 # m² à (déterminer)\n",
    "\n"
   ]
  },
  {
   "cell_type": "markdown",
   "metadata": {},
   "source": [
    "#### Données dépendantes"
   ]
  },
  {
   "cell_type": "code",
   "execution_count": null,
   "metadata": {
    "collapsed": true
   },
   "outputs": [],
   "source": []
  },
  {
   "cell_type": "markdown",
   "metadata": {},
   "source": [
    "## Calculs thermiques\n",
    "\n",
    "### Transfert de chaleur de l'air ambiant vers la bière.\n",
    "\n",
    "Ce transfert thermique se trouve à être la partie passive entre la bière et l'environement. Il sera donné comme hypothèse que la température de l'air ambiant (chaud) se transfert vers la bière (froid), afin de représenter $q_{in}$ de notre équation primaire. Cette partie regroupe les éléments suivants,\n",
    "\n",
    "* La conduction dans l'acier inox du conical\n",
    "* La résistance thermique de contacte entre l'acier inox et le néoprène\n",
    "* La conduction dans le néoprène\n",
    "* La convection naturelle du néoprène vers l'air ambiant\n",
    "\n",
    "Tous ces éléments peuvent être combiné en série afin de calculer une résistance équivalente totale. Cette résistance équivalente sera utilisé dans le calcul de la quantité du transfert thermique en fonction du temps.  \n",
    "\n",
    "$ q_{in}(t) = \\dfrac{\\Delta T(t)}{R_{eqv}}      $\n",
    "\n",
    "où,\n",
    "\n",
    "$q_{in}(t)$ = le flux thermique (W) en fonction du temps (s)\n",
    "\n",
    "$\\Delta T(t)$ = La différence de température (°C) entre l'air ambiant et la bière. La température ambiante restera constante (hypothèse).\n"
   ]
  },
  {
   "cell_type": "markdown",
   "metadata": {},
   "source": [
    "#### Calcul de la résistance équivalente de conduction passive"
   ]
  },
  {
   "cell_type": "code",
   "execution_count": 121,
   "metadata": {
    "collapsed": false
   },
   "outputs": [
    {
     "name": "stdout",
     "output_type": "stream",
     "text": [
      "La résistance équivalente passive = 0.604059965763\n"
     ]
    }
   ],
   "source": [
    "# La résistance de conduction dans l'acier inox du conical\n",
    "k_ss = 15 #W/m °K\n",
    "R_cd_ss = epaisseur_ss/(k_ss*air_tot)\n",
    "\n",
    "\n",
    "# La résistance thermique de contacte entre l'acier inox et le néoprène\n",
    "Rtc_neo_ss = 0.04 #m²K/W\n",
    "R_ct_ss_neo = (Rtc_neo_ss * air_tot)/(10**4) # à valider\n",
    "\n",
    "# La résistance de conduction dans le néoprène\n",
    "k_neo = 0.05 #W/m °K\n",
    "\n",
    "R_cd_neo = epaisseur_neo/(k_neo*air_tot)\n",
    "\n",
    "\n",
    "\n",
    "# La résistance de convection naturelle du néoprène vers l'air ambiant\n",
    "h_neo = 25 #W/m² K\n",
    "R_cv_neo_air = 1/(h_neo * air_tot)\n",
    "\n",
    "R_eqv_passif = R_cd_ss+R_ct_ss_neo+R_cd_neo+R_cv_neo_air\n",
    "print('La résistance équivalente passive =',R_eqv_passif)"
   ]
  },
  {
   "cell_type": "markdown",
   "metadata": {},
   "source": [
    "### Transfert thermique entre le système Peltier et la bière"
   ]
  },
  {
   "cell_type": "markdown",
   "metadata": {},
   "source": [
    "Cette partie du problème consiste à évaluer le transfert thermique du système actif. Ce système est actif étant donné que le flux thermique sortant est contrôllé de façon électrique. Cette partie inclus les éléments suivants,\n",
    "\n",
    "* Conduction dans l'acier inox\n",
    "* Résistance de contacte entre l'inox et la plaque\n",
    "* Conduction dans la plaque\n",
    "* Résistance de contacte entre la plaque et les cellules peltiers côté chaud\n",
    "* Le flux thermique des cellules peltiers\n",
    "* La résistance de contacte thermique entre les cellules peltiers côté froid et le heat sink\n",
    "* La conduction dans le heat sink\n",
    "* La convection naturelle du heat sink\n",
    "* La convection forcée du heat sink\n",
    "\n",
    "#### Calcul de la résistance thermique équivalente de convection active"
   ]
  },
  {
   "cell_type": "code",
   "execution_count": 122,
   "metadata": {
    "collapsed": false
   },
   "outputs": [
    {
     "name": "stdout",
     "output_type": "stream",
     "text": [
      "La résistance équivalente de convection active avant le heat sink = 0.5671796091794872\n",
      "La résistance équivalente de convection active après le heat sink = 0.114166492524\n"
     ]
    }
   ],
   "source": [
    "# La résistance de conduction dans l'acier inox\n",
    "R_cd_ss_plq = epaisseur_ss/(k_ss*air_plq)\n",
    "\n",
    "# La résistance de contacte entre l'inox et la plaque\n",
    "Rct_ss_plq = 0.04 #m²K/W\n",
    "R_ct_ss_plq = (Rct_ss_plq * air_plq)/(10**4)\n",
    "\n",
    "# La résistance de conduction dans la plaque\n",
    "k_alu = 15 #W/m °K\n",
    "R_cd_plq= epaisseur_plq/(k_alu*air_plq)\n",
    "\n",
    "# La résistance de contacte entre la plaque et les cellules peltiers côté chaud\n",
    "air_plt = air_plt_ch * nb_plt\n",
    "Rct_plq_plt = 0.3 #m²K/W\n",
    "R_ct_plq_plt = (Rct_plq_plt * air_plt)/(10**4)\n",
    "\n",
    "# Le flux thermique des cellules peltiers\n",
    "q_plt = q_plt_ch * nb_plt\n",
    "\n",
    "# La résistance de contacte thermique entre les cellules peltiers côté froid et le heat sink\n",
    "R_ct_plt_hs = (Rct_plq_plt * air_plt)/(10**4)\n",
    "\n",
    "# La résistance de conduction dans le heat sink\n",
    "R_cd_hs = epaisseur_hs/(k_alu*air_hs)\n",
    "\n",
    "# La résistance de convection naturelle du heat sink\n",
    "h_hs = 0.01\n",
    "R_cv_hs_air = 1/(h_hs * air_tot)\n",
    "\n",
    "# La résistance de conduction forcé du heat heat sink\n",
    "R_cv_force_hs = 0.01 # À déterminer (hypothèse d'aucune résistance pour le moment)\n",
    "\n",
    "# Résistance équivalente avant les peltiers\n",
    "R_eqv_active_av = R_cd_ss_plq + R_ct_ss_plq + R_cd_plq + R_ct_plq_plt\n",
    "\n",
    "R_eqv_active_ap = R_ct_plt_hs + R_cd_hs + ((1/R_cv_hs_air)+(1/R_cv_force_hs))**-1\n",
    "\n",
    "\n",
    "print('La résistance équivalente de convection active avant le heat sink =',R_eqv_active_av )\n",
    "print('La résistance équivalente de convection active après le heat sink =',R_eqv_active_ap )"
   ]
  },
  {
   "cell_type": "code",
   "execution_count": 145,
   "metadata": {
    "collapsed": false
   },
   "outputs": [
    {
     "name": "stdout",
     "output_type": "stream",
     "text": [
      "différence de température peltier et bière = 15.0\n",
      "Température peltier entrée = 293.15\n",
      "q_av = 26.4466489226\n",
      "Température bière kelvin = 308.15\n",
      "q_peltier = 91.0\n",
      "Le flux out total = 64.5533510774\n",
      "q_in passif = 24.8319717415\n",
      "-15.0\n",
      "Variation de température de la bière = -4.91080191094\n",
      "Température de la bière = 303.239198089\n"
     ]
    }
   ],
   "source": [
    "dt_biere = 0 #initialisation du delta t\n",
    "T_biere_k = T_wort+273.15\n",
    "T_ambiant_k = T_ambiant + 273.15\n",
    "Ti_pl_k = T_ambiant_k\n",
    "\n",
    "dt = 1\n",
    "\n",
    "while (T_biere_goal-T_biere_k)\n",
    "    q_av = np.abs((Ti_pl_k-T_biere_k))/(R_eqv_active_av)\n",
    "\n",
    "    print('différence de température peltier et bière =', np.abs((Ti_pl_k-T_biere_k)))\n",
    "    print('Température peltier entrée =',Ti_pl_k)\n",
    "    print('q_av =',q_av)\n",
    "    print('Température bière kelvin =',T_biere_k)\n",
    "\n",
    "    print('q_peltier =',q_plt)\n",
    "    q_out = q_plt - q_av\n",
    "    print('Le flux out total =',q_out)\n",
    "    \n",
    "    q_in = np.abs((T_ambiant_k - T_biere_k)/R_eqv_passif)\n",
    "    print('q_in passif =',q_in)\n",
    "    print(T_ambiant_k - T_biere_k)\n",
    "    delta_T = ((q_in-q_out)/Cp_th)*dt\n",
    "    T_biere_k = T_biere_k + delta_T\n",
    "    print('Variation de température de la bière =',delta_T)\n",
    "    print('Température de la bière =',T_biere_k)\n",
    "    "
   ]
  },
  {
   "cell_type": "code",
   "execution_count": null,
   "metadata": {
    "collapsed": true
   },
   "outputs": [],
   "source": []
  },
  {
   "cell_type": "code",
   "execution_count": null,
   "metadata": {
    "collapsed": true
   },
   "outputs": [],
   "source": []
  },
  {
   "cell_type": "code",
   "execution_count": null,
   "metadata": {
    "collapsed": true
   },
   "outputs": [],
   "source": []
  }
 ],
 "metadata": {
  "kernelspec": {
   "display_name": "Python 3",
   "language": "python",
   "name": "python3"
  },
  "language_info": {
   "codemirror_mode": {
    "name": "ipython",
    "version": 3
   },
   "file_extension": ".py",
   "mimetype": "text/x-python",
   "name": "python",
   "nbconvert_exporter": "python",
   "pygments_lexer": "ipython3",
   "version": "3.5.1"
  },
  "latex_envs": {
   "bibliofile": "biblio.bib",
   "cite_by": "apalike",
   "current_citInitial": 1,
   "eqLabelWithNumbers": true,
   "eqNumInitial": 0
  },
  "toc": {
   "toc_cell": false,
   "toc_number_sections": true,
   "toc_threshold": 6,
   "toc_window_display": false
  }
 },
 "nbformat": 4,
 "nbformat_minor": 0
}
